{
 "cells": [
  {
   "cell_type": "code",
   "execution_count": 2,
   "id": "11f7bcde",
   "metadata": {
    "ExecuteTime": {
     "end_time": "2023-10-23T12:09:30.516516Z",
     "start_time": "2023-10-23T12:09:30.513850Z"
    }
   },
   "outputs": [],
   "source": [
    "import pandas as pd\n",
    "import numpy as np"
   ]
  },
  {
   "cell_type": "code",
   "execution_count": 4,
   "id": "f9cce92b",
   "metadata": {
    "ExecuteTime": {
     "end_time": "2023-10-23T12:09:48.650453Z",
     "start_time": "2023-10-23T12:09:48.641561Z"
    }
   },
   "outputs": [
    {
     "data": {
      "text/plain": [
       "array([[1, 2, 3],\n",
       "       [4, 5, 6]])"
      ]
     },
     "execution_count": 4,
     "metadata": {},
     "output_type": "execute_result"
    }
   ],
   "source": [
    "a1 = np.array([[1,2,3],[4,5,6]])\n",
    "a1"
   ]
  },
  {
   "cell_type": "code",
   "execution_count": 6,
   "id": "7a3edf95",
   "metadata": {
    "ExecuteTime": {
     "end_time": "2023-10-23T12:10:10.695632Z",
     "start_time": "2023-10-23T12:10:10.689737Z"
    }
   },
   "outputs": [
    {
     "data": {
      "text/plain": [
       "array([[ 7,  8,  9],\n",
       "       [10, 11, 12]])"
      ]
     },
     "execution_count": 6,
     "metadata": {},
     "output_type": "execute_result"
    }
   ],
   "source": [
    "a2 = np.array([[7,8,9],[10,11,12]])\n",
    "a2"
   ]
  },
  {
   "cell_type": "code",
   "execution_count": 7,
   "id": "970d0d56",
   "metadata": {
    "ExecuteTime": {
     "end_time": "2023-10-23T12:10:18.980174Z",
     "start_time": "2023-10-23T12:10:18.975668Z"
    }
   },
   "outputs": [
    {
     "data": {
      "text/plain": [
       "array([[ 8, 10, 12],\n",
       "       [14, 16, 18]])"
      ]
     },
     "execution_count": 7,
     "metadata": {},
     "output_type": "execute_result"
    }
   ],
   "source": [
    "# Phep cong\n",
    "a1 + a2"
   ]
  },
  {
   "cell_type": "code",
   "execution_count": 8,
   "id": "c9c70398",
   "metadata": {
    "ExecuteTime": {
     "end_time": "2023-10-23T12:11:23.178667Z",
     "start_time": "2023-10-23T12:11:23.008595Z"
    }
   },
   "outputs": [
    {
     "ename": "ValueError",
     "evalue": "shapes (2,3) and (2,3) not aligned: 3 (dim 1) != 2 (dim 0)",
     "output_type": "error",
     "traceback": [
      "\u001b[0;31m---------------------------------------------------------------------------\u001b[0m",
      "\u001b[0;31mValueError\u001b[0m                                Traceback (most recent call last)",
      "Cell \u001b[0;32mIn[8], line 1\u001b[0m\n\u001b[0;32m----> 1\u001b[0m \u001b[43mnp\u001b[49m\u001b[38;5;241;43m.\u001b[39;49m\u001b[43mdot\u001b[49m\u001b[43m(\u001b[49m\u001b[43ma1\u001b[49m\u001b[43m,\u001b[49m\u001b[43ma2\u001b[49m\u001b[43m)\u001b[49m\n",
      "\u001b[0;31mValueError\u001b[0m: shapes (2,3) and (2,3) not aligned: 3 (dim 1) != 2 (dim 0)"
     ]
    }
   ],
   "source": [
    "np.dot(a1,a2)"
   ]
  },
  {
   "cell_type": "code",
   "execution_count": 10,
   "id": "108b1800",
   "metadata": {
    "ExecuteTime": {
     "end_time": "2023-10-23T12:12:21.543617Z",
     "start_time": "2023-10-23T12:12:21.540534Z"
    }
   },
   "outputs": [],
   "source": [
    "a3 = a2.reshape(3,2) # nen dung transpose"
   ]
  },
  {
   "cell_type": "code",
   "execution_count": 11,
   "id": "605d587c",
   "metadata": {
    "ExecuteTime": {
     "end_time": "2023-10-23T12:12:30.262562Z",
     "start_time": "2023-10-23T12:12:30.258222Z"
    }
   },
   "outputs": [
    {
     "data": {
      "text/plain": [
       "array([[ 58,  64],\n",
       "       [139, 154]])"
      ]
     },
     "execution_count": 11,
     "metadata": {},
     "output_type": "execute_result"
    }
   ],
   "source": [
    "np.dot(a1,a3)"
   ]
  },
  {
   "cell_type": "code",
   "execution_count": 12,
   "id": "0be6f4ae",
   "metadata": {
    "ExecuteTime": {
     "end_time": "2023-10-23T12:13:25.334047Z",
     "start_time": "2023-10-23T12:13:25.330562Z"
    }
   },
   "outputs": [],
   "source": [
    "p1 = pd.DataFrame(a2)"
   ]
  },
  {
   "cell_type": "code",
   "execution_count": 13,
   "id": "faf59d75",
   "metadata": {
    "ExecuteTime": {
     "end_time": "2023-10-23T12:13:52.864565Z",
     "start_time": "2023-10-23T12:13:52.858609Z"
    }
   },
   "outputs": [],
   "source": [
    "p1.to_json(\"./a2.json\")"
   ]
  },
  {
   "cell_type": "code",
   "execution_count": 35,
   "id": "c1bdf866",
   "metadata": {
    "ExecuteTime": {
     "end_time": "2023-10-23T12:22:03.801579Z",
     "start_time": "2023-10-23T12:22:03.789825Z"
    }
   },
   "outputs": [
    {
     "data": {
      "text/html": [
       "<div>\n",
       "<style scoped>\n",
       "    .dataframe tbody tr th:only-of-type {\n",
       "        vertical-align: middle;\n",
       "    }\n",
       "\n",
       "    .dataframe tbody tr th {\n",
       "        vertical-align: top;\n",
       "    }\n",
       "\n",
       "    .dataframe thead th {\n",
       "        text-align: right;\n",
       "    }\n",
       "</style>\n",
       "<table border=\"1\" class=\"dataframe\">\n",
       "  <thead>\n",
       "    <tr style=\"text-align: right;\">\n",
       "      <th></th>\n",
       "      <th>a</th>\n",
       "      <th>c</th>\n",
       "      <th>b</th>\n",
       "    </tr>\n",
       "  </thead>\n",
       "  <tbody>\n",
       "    <tr>\n",
       "      <th>0</th>\n",
       "      <td>7</td>\n",
       "      <td>8</td>\n",
       "      <td>9</td>\n",
       "    </tr>\n",
       "    <tr>\n",
       "      <th>1</th>\n",
       "      <td>10</td>\n",
       "      <td>11</td>\n",
       "      <td>12</td>\n",
       "    </tr>\n",
       "  </tbody>\n",
       "</table>\n",
       "</div>"
      ],
      "text/plain": [
       "    a   c   b\n",
       "0   7   8   9\n",
       "1  10  11  12"
      ]
     },
     "execution_count": 35,
     "metadata": {},
     "output_type": "execute_result"
    }
   ],
   "source": [
    "p1 = pd.read_json(\"./a2.json\")\n",
    "p1.rename(columns={0: \"a\", 1: \"c\", 2:\"b\"}, inplace=True)\n",
    "p1"
   ]
  },
  {
   "cell_type": "code",
   "execution_count": 15,
   "id": "f39c9c17",
   "metadata": {
    "ExecuteTime": {
     "end_time": "2023-10-23T12:15:44.851522Z",
     "start_time": "2023-10-23T12:15:44.848941Z"
    }
   },
   "outputs": [],
   "source": [
    "# dict key la so"
   ]
  },
  {
   "cell_type": "code",
   "execution_count": 19,
   "id": "d55f8ef2",
   "metadata": {
    "ExecuteTime": {
     "end_time": "2023-10-23T12:16:46.182610Z",
     "start_time": "2023-10-23T12:16:46.177754Z"
    }
   },
   "outputs": [
    {
     "data": {
      "text/plain": [
       "'con meo'"
      ]
     },
     "execution_count": 19,
     "metadata": {},
     "output_type": "execute_result"
    }
   ],
   "source": [
    "class Animal:\n",
    "    def __init__(self, name):\n",
    "        self.name = name\n",
    "        \n",
    "class ConMeo:\n",
    "    def __init__()\n",
    "\n",
    "Animal(\"con meo\").name"
   ]
  },
  {
   "cell_type": "code",
   "execution_count": 21,
   "id": "6f458855",
   "metadata": {
    "ExecuteTime": {
     "end_time": "2023-10-23T12:18:24.878453Z",
     "start_time": "2023-10-23T12:18:24.870630Z"
    }
   },
   "outputs": [
    {
     "data": {
      "text/html": [
       "<div>\n",
       "<style scoped>\n",
       "    .dataframe tbody tr th:only-of-type {\n",
       "        vertical-align: middle;\n",
       "    }\n",
       "\n",
       "    .dataframe tbody tr th {\n",
       "        vertical-align: top;\n",
       "    }\n",
       "\n",
       "    .dataframe thead th {\n",
       "        text-align: right;\n",
       "    }\n",
       "</style>\n",
       "<table border=\"1\" class=\"dataframe\">\n",
       "  <thead>\n",
       "    <tr style=\"text-align: right;\">\n",
       "      <th></th>\n",
       "      <th>0</th>\n",
       "      <th>1</th>\n",
       "      <th>2</th>\n",
       "    </tr>\n",
       "  </thead>\n",
       "  <tbody>\n",
       "    <tr>\n",
       "      <th>0</th>\n",
       "      <td>7</td>\n",
       "      <td>8</td>\n",
       "      <td>9</td>\n",
       "    </tr>\n",
       "    <tr>\n",
       "      <th>1</th>\n",
       "      <td>10</td>\n",
       "      <td>11</td>\n",
       "      <td>12</td>\n",
       "    </tr>\n",
       "  </tbody>\n",
       "</table>\n",
       "</div>"
      ],
      "text/plain": [
       "    0   1   2\n",
       "0   7   8   9\n",
       "1  10  11  12"
      ]
     },
     "execution_count": 21,
     "metadata": {},
     "output_type": "execute_result"
    }
   ],
   "source": [
    "p1"
   ]
  },
  {
   "cell_type": "code",
   "execution_count": 23,
   "id": "7fc7dbad",
   "metadata": {
    "ExecuteTime": {
     "end_time": "2023-10-23T12:18:44.325169Z",
     "start_time": "2023-10-23T12:18:44.318957Z"
    }
   },
   "outputs": [
    {
     "data": {
      "text/plain": [
       "0     8\n",
       "1    11\n",
       "Name: 1, dtype: int64"
      ]
     },
     "execution_count": 23,
     "metadata": {},
     "output_type": "execute_result"
    }
   ],
   "source": [
    "p1.iloc[:,1]"
   ]
  },
  {
   "cell_type": "code",
   "execution_count": 38,
   "id": "d49a2d53",
   "metadata": {
    "ExecuteTime": {
     "end_time": "2023-10-23T12:22:43.063235Z",
     "start_time": "2023-10-23T12:22:43.055137Z"
    }
   },
   "outputs": [
    {
     "data": {
      "text/plain": [
       "0     9\n",
       "1    12\n",
       "Name: b, dtype: int64"
      ]
     },
     "execution_count": 38,
     "metadata": {},
     "output_type": "execute_result"
    }
   ],
   "source": [
    "p1.loc[:,\"b\"]"
   ]
  },
  {
   "cell_type": "code",
   "execution_count": null,
   "id": "a510ccf8",
   "metadata": {},
   "outputs": [],
   "source": []
  }
 ],
 "metadata": {
  "hide_input": false,
  "kernelspec": {
   "display_name": "Python 3 (ipykernel)",
   "language": "python",
   "name": "python3"
  },
  "language_info": {
   "codemirror_mode": {
    "name": "ipython",
    "version": 3
   },
   "file_extension": ".py",
   "mimetype": "text/x-python",
   "name": "python",
   "nbconvert_exporter": "python",
   "pygments_lexer": "ipython3",
   "version": "3.9.16"
  },
  "varInspector": {
   "cols": {
    "lenName": 16,
    "lenType": 16,
    "lenVar": 40
   },
   "kernels_config": {
    "python": {
     "delete_cmd_postfix": "",
     "delete_cmd_prefix": "del ",
     "library": "var_list.py",
     "varRefreshCmd": "print(var_dic_list())"
    },
    "r": {
     "delete_cmd_postfix": ") ",
     "delete_cmd_prefix": "rm(",
     "library": "var_list.r",
     "varRefreshCmd": "cat(var_dic_list()) "
    }
   },
   "position": {
    "height": "144.85px",
    "left": "588px",
    "right": "20px",
    "top": "85px",
    "width": "350px"
   },
   "types_to_exclude": [
    "module",
    "function",
    "builtin_function_or_method",
    "instance",
    "_Feature"
   ],
   "window_display": true
  }
 },
 "nbformat": 4,
 "nbformat_minor": 5
}
