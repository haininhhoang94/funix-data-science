{
 "cells": [
  {
   "cell_type": "code",
   "execution_count": 1,
   "id": "b01d9171",
   "metadata": {
    "ExecuteTime": {
     "end_time": "2023-09-10T15:39:55.607492Z",
     "start_time": "2023-09-10T15:39:55.375960Z"
    }
   },
   "outputs": [],
   "source": [
    "# find EUR/USD data\n",
    "import pandas as pd\n",
    "import numpy as np\n",
    "\n",
    "import yfinance as yf"
   ]
  },
  {
   "cell_type": "code",
   "execution_count": 2,
   "id": "a6b9fdff",
   "metadata": {
    "ExecuteTime": {
     "end_time": "2023-09-10T15:39:58.027455Z",
     "start_time": "2023-09-10T15:39:56.777258Z"
    }
   },
   "outputs": [
    {
     "name": "stdout",
     "output_type": "stream",
     "text": [
      "[*********************100%%**********************]  1 of 1 completed\n"
     ]
    },
    {
     "data": {
      "text/html": [
       "<div>\n",
       "<style scoped>\n",
       "    .dataframe tbody tr th:only-of-type {\n",
       "        vertical-align: middle;\n",
       "    }\n",
       "\n",
       "    .dataframe tbody tr th {\n",
       "        vertical-align: top;\n",
       "    }\n",
       "\n",
       "    .dataframe thead th {\n",
       "        text-align: right;\n",
       "    }\n",
       "</style>\n",
       "<table border=\"1\" class=\"dataframe\">\n",
       "  <thead>\n",
       "    <tr style=\"text-align: right;\">\n",
       "      <th></th>\n",
       "      <th>Open</th>\n",
       "      <th>High</th>\n",
       "      <th>Low</th>\n",
       "      <th>Close</th>\n",
       "      <th>Adj Close</th>\n",
       "      <th>Volume</th>\n",
       "    </tr>\n",
       "    <tr>\n",
       "      <th>Date</th>\n",
       "      <th></th>\n",
       "      <th></th>\n",
       "      <th></th>\n",
       "      <th></th>\n",
       "      <th></th>\n",
       "      <th></th>\n",
       "    </tr>\n",
       "  </thead>\n",
       "  <tbody>\n",
       "    <tr>\n",
       "      <th>2020-11-23</th>\n",
       "      <td>1.186535</td>\n",
       "      <td>1.190590</td>\n",
       "      <td>1.180317</td>\n",
       "      <td>1.186648</td>\n",
       "      <td>1.186648</td>\n",
       "      <td>0</td>\n",
       "    </tr>\n",
       "    <tr>\n",
       "      <th>2020-11-24</th>\n",
       "      <td>1.184180</td>\n",
       "      <td>1.189386</td>\n",
       "      <td>1.183894</td>\n",
       "      <td>1.184273</td>\n",
       "      <td>1.184273</td>\n",
       "      <td>0</td>\n",
       "    </tr>\n",
       "    <tr>\n",
       "      <th>2020-11-25</th>\n",
       "      <td>1.190051</td>\n",
       "      <td>1.192805</td>\n",
       "      <td>1.188284</td>\n",
       "      <td>1.190051</td>\n",
       "      <td>1.190051</td>\n",
       "      <td>0</td>\n",
       "    </tr>\n",
       "    <tr>\n",
       "      <th>2020-11-26</th>\n",
       "      <td>1.191753</td>\n",
       "      <td>1.194100</td>\n",
       "      <td>1.188693</td>\n",
       "      <td>1.192000</td>\n",
       "      <td>1.192000</td>\n",
       "      <td>0</td>\n",
       "    </tr>\n",
       "    <tr>\n",
       "      <th>2020-11-27</th>\n",
       "      <td>1.191185</td>\n",
       "      <td>1.196187</td>\n",
       "      <td>1.191072</td>\n",
       "      <td>1.191600</td>\n",
       "      <td>1.191600</td>\n",
       "      <td>0</td>\n",
       "    </tr>\n",
       "    <tr>\n",
       "      <th>...</th>\n",
       "      <td>...</td>\n",
       "      <td>...</td>\n",
       "      <td>...</td>\n",
       "      <td>...</td>\n",
       "      <td>...</td>\n",
       "      <td>...</td>\n",
       "    </tr>\n",
       "    <tr>\n",
       "      <th>2023-09-05</th>\n",
       "      <td>1.079447</td>\n",
       "      <td>1.079914</td>\n",
       "      <td>1.070755</td>\n",
       "      <td>1.079447</td>\n",
       "      <td>1.079447</td>\n",
       "      <td>0</td>\n",
       "    </tr>\n",
       "    <tr>\n",
       "      <th>2023-09-06</th>\n",
       "      <td>1.072616</td>\n",
       "      <td>1.074818</td>\n",
       "      <td>1.070515</td>\n",
       "      <td>1.072616</td>\n",
       "      <td>1.072616</td>\n",
       "      <td>0</td>\n",
       "    </tr>\n",
       "    <tr>\n",
       "      <th>2023-09-07</th>\n",
       "      <td>1.072420</td>\n",
       "      <td>1.073422</td>\n",
       "      <td>1.068764</td>\n",
       "      <td>1.072420</td>\n",
       "      <td>1.072420</td>\n",
       "      <td>0</td>\n",
       "    </tr>\n",
       "    <tr>\n",
       "      <th>2023-09-08</th>\n",
       "      <td>1.069782</td>\n",
       "      <td>1.074206</td>\n",
       "      <td>1.069507</td>\n",
       "      <td>1.069782</td>\n",
       "      <td>1.069782</td>\n",
       "      <td>0</td>\n",
       "    </tr>\n",
       "    <tr>\n",
       "      <th>2023-09-10</th>\n",
       "      <td>1.070205</td>\n",
       "      <td>1.070205</td>\n",
       "      <td>1.070205</td>\n",
       "      <td>1.070205</td>\n",
       "      <td>1.070205</td>\n",
       "      <td>0</td>\n",
       "    </tr>\n",
       "  </tbody>\n",
       "</table>\n",
       "<p>731 rows × 6 columns</p>\n",
       "</div>"
      ],
      "text/plain": [
       "                Open      High       Low     Close  Adj Close  Volume\n",
       "Date                                                                 \n",
       "2020-11-23  1.186535  1.190590  1.180317  1.186648   1.186648       0\n",
       "2020-11-24  1.184180  1.189386  1.183894  1.184273   1.184273       0\n",
       "2020-11-25  1.190051  1.192805  1.188284  1.190051   1.190051       0\n",
       "2020-11-26  1.191753  1.194100  1.188693  1.192000   1.192000       0\n",
       "2020-11-27  1.191185  1.196187  1.191072  1.191600   1.191600       0\n",
       "...              ...       ...       ...       ...        ...     ...\n",
       "2023-09-05  1.079447  1.079914  1.070755  1.079447   1.079447       0\n",
       "2023-09-06  1.072616  1.074818  1.070515  1.072616   1.072616       0\n",
       "2023-09-07  1.072420  1.073422  1.068764  1.072420   1.072420       0\n",
       "2023-09-08  1.069782  1.074206  1.069507  1.069782   1.069782       0\n",
       "2023-09-10  1.070205  1.070205  1.070205  1.070205   1.070205       0\n",
       "\n",
       "[731 rows x 6 columns]"
      ]
     },
     "execution_count": 2,
     "metadata": {},
     "output_type": "execute_result"
    }
   ],
   "source": [
    "ticker = \"EURUSD=X\"\n",
    "data = yf.download(tickers=ticker, period=\"730d\", interval=\"1d\")\n",
    "data=pd.DataFrame(data)\n",
    "data"
   ]
  },
  {
   "cell_type": "code",
   "execution_count": null,
   "id": "a1507d13",
   "metadata": {
    "ExecuteTime": {
     "end_time": "2023-09-10T15:39:58.216402Z",
     "start_time": "2023-09-10T15:39:58.216395Z"
    }
   },
   "outputs": [],
   "source": [
    "data.describe()"
   ]
  },
  {
   "cell_type": "code",
   "execution_count": null,
   "id": "d681be6e",
   "metadata": {},
   "outputs": [],
   "source": [
    "data.isnull().any()"
   ]
  },
  {
   "cell_type": "code",
   "execution_count": 3,
   "id": "a6a34799",
   "metadata": {
    "ExecuteTime": {
     "end_time": "2023-09-10T15:39:59.653147Z",
     "start_time": "2023-09-10T15:39:59.649098Z"
    }
   },
   "outputs": [
    {
     "data": {
      "text/plain": [
       "pandas.core.frame.DataFrame"
      ]
     },
     "execution_count": 3,
     "metadata": {},
     "output_type": "execute_result"
    }
   ],
   "source": [
    "# Replace NaN data by either\n",
    "# To drop row with NaN\n",
    "# data.dropna(inplace=True)\n",
    "# To fill data with NaN using mean, in order to preserve\n",
    "# our stationary for ARIMA model\n",
    "# data.fillna(data.mean(), inplace=True)\n",
    "type(data)"
   ]
  },
  {
   "cell_type": "code",
   "execution_count": 4,
   "id": "c2dffcca",
   "metadata": {
    "ExecuteTime": {
     "end_time": "2023-09-10T15:40:02.015129Z",
     "start_time": "2023-09-10T15:40:01.099990Z"
    }
   },
   "outputs": [
    {
     "name": "stderr",
     "output_type": "stream",
     "text": [
      "/Users/haininhhoang94/.virtualenvs/funix-data-science-ynpb/lib/python3.9/site-packages/seaborn/axisgrid.py:118: UserWarning: The figure layout has changed to tight\n",
      "  self._figure.tight_layout(*args, **kwargs)\n"
     ]
    },
    {
     "data": {
      "image/png": "[encoded data removed]",
      "text/plain": [
       "<Figure size 500x500 with 1 Axes>"
      ]
     },
     "metadata": {},
     "output_type": "display_data"
    }
   ],
   "source": [
    "# Draw histogram for Adj Close\n",
    "import seaborn as sns\n",
    "import matplotlib.pyplot as plt\n",
    "# Create a sample dataset\n",
    "# Draw histogram using Seaborn\n",
    "sns.displot(data=pd.to_numeric(data['Close']), kde=False, bins=5)\n",
    "# Show the plot\n",
    "plt.show()"
   ]
  }
 ],
 "metadata": {
  "hide_input": false,
  "kernelspec": {
   "display_name": "Python 3 (ipykernel)",
   "language": "python",
   "name": "python3"
  },
  "language_info": {
   "codemirror_mode": {
    "name": "ipython",
    "version": 3
   },
   "file_extension": ".py",
   "mimetype": "text/x-python",
   "name": "python",
   "nbconvert_exporter": "python",
   "pygments_lexer": "ipython3",
   "version": "3.9.16"
  },
  "varInspector": {
   "cols": {
    "lenName": 16,
    "lenType": 16,
    "lenVar": 40
   },
   "kernels_config": {
    "python": {
     "delete_cmd_postfix": "",
     "delete_cmd_prefix": "del ",
     "library": "var_list.py",
     "varRefreshCmd": "print(var_dic_list())"
    },
    "r": {
     "delete_cmd_postfix": ") ",
     "delete_cmd_prefix": "rm(",
     "library": "var_list.r",
     "varRefreshCmd": "cat(var_dic_list()) "
    }
   },
   "types_to_exclude": [
    "module",
    "function",
    "builtin_function_or_method",
    "instance",
    "_Feature"
   ],
   "window_display": true
  }
 },
 "nbformat": 4,
 "nbformat_minor": 5
}
