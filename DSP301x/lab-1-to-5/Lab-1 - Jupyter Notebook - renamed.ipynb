{
 "cells": [
  {
   "cell_type": "markdown",
   "id": "aba76549-b96e-4978-8c53-5cf9cc82b683",
   "metadata": {},
   "source": [
    "# Bai tap 1 - Viet va thuc thi code"
   ]
  },
  {
   "cell_type": "code",
   "execution_count": 2,
   "id": "8bab3276-b33e-4951-b6b4-a04a57dd399d",
   "metadata": {},
   "outputs": [
    {
     "data": {
      "text/plain": [
       "2"
      ]
     },
     "execution_count": 2,
     "metadata": {},
     "output_type": "execute_result"
    }
   ],
   "source": [
    "1+1"
   ]
  },
  {
   "cell_type": "markdown",
   "id": "e5c8d4b5-4650-4f6b-bece-c8f80aa3b809",
   "metadata": {},
   "source": [
    "# Bai tap 2 - Tao 1 cell moi"
   ]
  },
  {
   "cell_type": "code",
   "execution_count": 3,
   "id": "d404e161-4b08-4e10-b33d-54fe7aae3710",
   "metadata": {},
   "outputs": [],
   "source": [
    "# old cell"
   ]
  },
  {
   "cell_type": "code",
   "execution_count": 4,
   "id": "1e2abfb3-ce9e-4e52-b8bf-478a9e075d1a",
   "metadata": {},
   "outputs": [],
   "source": [
    "# cell insert"
   ]
  },
  {
   "cell_type": "code",
   "execution_count": 5,
   "id": "65dff450-0dfb-4b21-98c0-4fb01974b263",
   "metadata": {},
   "outputs": [],
   "source": [
    "# cell above insert"
   ]
  },
  {
   "cell_type": "code",
   "execution_count": 6,
   "id": "6dc00a5c-041d-4fe5-a26f-243f7377564a",
   "metadata": {},
   "outputs": [],
   "source": [
    "# just a cell below lol"
   ]
  },
  {
   "cell_type": "markdown",
   "id": "c112c7af-e29b-4bfe-9458-16862ce0ae77",
   "metadata": {},
   "source": [
    "# Bai tap 3 - Tao cell Markdown"
   ]
  },
  {
   "cell_type": "markdown",
   "id": "32d23856-fca5-4f8f-9324-4da1321c2615",
   "metadata": {},
   "source": [
    "## My title"
   ]
  },
  {
   "cell_type": "markdown",
   "id": "4e68552a-4d84-45f4-9637-f8b2e6fd7329",
   "metadata": {},
   "source": [
    "# Bai tap 6 - Tao kieu markdown nang cao"
   ]
  },
  {
   "cell_type": "markdown",
   "id": "b8ad23c6-e04f-4c6c-ace6-cff23e8634f1",
   "metadata": {},
   "source": [
    "<a href=\"https://www.cognitiveclass.ai\">Cognitive Class</a>"
   ]
  },
  {
   "cell_type": "markdown",
   "id": "0e14fa12-1070-45c3-bbd9-525165f2eeab",
   "metadata": {},
   "source": [
    "# Header 1"
   ]
  },
  {
   "cell_type": "markdown",
   "id": "1ac1c145-4ac4-49a9-80d8-d380e19ae786",
   "metadata": {},
   "source": [
    "|header|header|\n",
    "|------|------|\n",
    "|cell|cell|"
   ]
  },
  {
   "cell_type": "markdown",
   "id": "baa54e3e-6837-4208-ac5a-317b470bd184",
   "metadata": {},
   "source": [
    "## bang 3 cot 4 hang\n",
    "\n",
    "|STT|Cot 1|Cot 2|\n",
    "|---|----|-----|\n",
    "|1|-|-|\n",
    "|2|-|-|\n",
    "|3|-|-|\n",
    "|4|-|-|\n",
    "\n",
    "Coi hang dau tien la col name"
   ]
  },
  {
   "cell_type": "code",
   "execution_count": null,
   "id": "8f6b158a-5dd2-4b20-8acc-2fbed86084aa",
   "metadata": {},
   "outputs": [],
   "source": []
  }
 ],
 "metadata": {
  "kernelspec": {
   "display_name": "Python 3 (ipykernel)",
   "language": "python",
   "name": "python3"
  },
  "language_info": {
   "codemirror_mode": {
    "name": "ipython",
    "version": 3
   },
   "file_extension": ".py",
   "mimetype": "text/x-python",
   "name": "python",
   "nbconvert_exporter": "python",
   "pygments_lexer": "ipython3",
   "version": "3.9.16"
  }
 },
 "nbformat": 4,
 "nbformat_minor": 5
}
