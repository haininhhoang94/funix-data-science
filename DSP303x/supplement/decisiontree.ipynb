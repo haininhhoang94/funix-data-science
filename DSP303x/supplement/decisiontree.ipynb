{
 "cells": [
  {
   "cell_type": "code",
   "execution_count": 2,
   "metadata": {},
   "outputs": [],
   "source": [
    "# Sample Iris dataset\n",
    "data = pd.read_csv(\n",
    "    \"https://raw.githubusercontent.com/uiuc-cse/data-fa14/gh-pages/data/iris.csv\"\n",
    ")\n",
    "X = data.iloc[:, :-1].values  # Features\n",
    "y = data.iloc[:, -1].values  # Labels"
   ]
  },
  {
   "cell_type": "code",
   "execution_count": null,
   "metadata": {},
   "outputs": [],
   "source": [
    "# Define a class for Decision Tree Node\n",
    "class DecisionNode:\n",
    "    def __init__(\n",
    "        self, gini, num_samples, num_samples_per_class, predicted_class\n",
    "    ) -> None:\n",
    "        self.gini = gini  # Gini impurity of the node\n",
    "        self.num_samples = num_samples  # Total number of samples at this node\n",
    "        self.num_samples_per_class = (\n",
    "            num_samples_per_class  # Number of samples per class at this node\n",
    "        )\n",
    "        self.predicted_class = (\n",
    "            predicted_class  # Predicted class label for this node\n",
    "        )\n",
    "        self.feature_index = 0  # Index of feature to split on\n",
    "        self.threshold = 0  # Threshold value for the split\n",
    "        self.left = None  # Left child node\n",
    "        self.right = None  # Right child node\n",
    "\n",
    "\n",
    "# Define a class for the Decision Tree Classifier\n",
    "class DecisionTreeClassifier:\n",
    "    def fit(self, X, y):\n",
    "        self.n_classes = len(np.unique(y))  # Number of classes\n",
    "        self.n_features = X.shape[1]  # Number of features\n",
    "        self.tree = self._build_tree(X, y)\n",
    "\n",
    "    def _build_tree(self, X, y, depth=0):\n",
    "        num_samples_per_class = [np.sum(y == i) for i in range(self.n_classes)]\n",
    "        predicted_class = np.argmax(num_samples_per_class)\n",
    "        node = DecisionNode(\n",
    "            gini=self._gini(y),\n",
    "            num_samples=len(y),\n",
    "            num_samples_per_class=num_samples_per_class,\n",
    "            predicted_class=predicted_class,\n",
    "        )\n",
    "\n",
    "        # Check termination conditions\n",
    "        if depth < 2:\n",
    "            if len(np.unique(y)) == 1:\n",
    "                return node\n",
    "            if X.shape[0] <= 2:\n",
    "                return node\n",
    "\n",
    "        # Find the best split\n",
    "        feature_index, threshold = self._find_best_split(X, y)\n",
    "        if feature_index is not None:\n",
    "            indices_left = X[:, feature_index] < threshold\n",
    "            X_left, y_left = X[indices_left], y[~indices_left]\n",
    "            X_right, y_right = X[~indices_left], y[~indices_left]\n",
    "            node.feature_index = feature_index\n",
    "            node.threshold = threshold\n",
    "            node.left = self._build_tree(X_left, y_left, depth + 1)"
   ]
  }
 ],
 "metadata": {
  "kernelspec": {
   "display_name": "funix-data-science-ynpb",
   "language": "python",
   "name": "python3"
  },
  "language_info": {
   "codemirror_mode": {
    "name": "ipython",
    "version": 3
   },
   "file_extension": ".py",
   "mimetype": "text/x-python",
   "name": "python",
   "nbconvert_exporter": "python",
   "pygments_lexer": "ipython3",
   "version": "3.9.16"
  }
 },
 "nbformat": 4,
 "nbformat_minor": 2
}
