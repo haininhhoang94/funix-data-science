{
 "cells": [
  {
   "cell_type": "markdown",
   "metadata": {},
   "source": [
    "# Gradient Descent"
   ]
  },
  {
   "cell_type": "markdown",
   "metadata": {},
   "source": [
    "## Basic Theory of Gradient Descent (Gradient is Derivative)\n",
    "\n",
    "1. **Objective**: The primary goal of gradient descent is to find the minimum of a function. This function is often a loss function in machine learning, representing the difference between the predicted values and the actual values.\n",
    "\n",
    "2. **Gradient**: The gradient of a function at a particular point is a vector pointing in the direction of the steepest ascent. In gradient descent, we're interested in the opposite direction—the steepest descent.\n",
    "\n",
    "3. **Update Rule**: To find the minimum, gradient descent iteratively moves in the direction opposite to the gradient. At each step, the parameters are updated as follows:\n",
    "\n",
    "$$θ_{ new } = θ_{ old } - α ∇F(θ_{ old })$$\n",
    "\n",
    "Here, `θ` represents the parameters, `α` is the learning rate (a small, positive number), and `∇F(θ)` is the gradient of the function `F` with respect to `θ`.\n",
    "\n",
    "4. **Learning Rate**: The learning rate `α` determines the size of the steps taken towards the minimum. If `α` is too large, the algorithm might overshoot the minimum; if it's too small, the convergence might be very slow.\n",
    "\n",
    "5. **Convergence**: The process continues until the algorithm converges, meaning the change in the function value between iterations is below a predetermined threshold, or a maximum number of iterations is reached."
   ]
  },
  {
   "cell_type": "markdown",
   "metadata": {},
   "source": [
    "## Convergence\n",
    "Convergence itself is a very interesting concept"
   ]
  },
  {
   "cell_type": "markdown",
   "metadata": {},
   "source": [
    "\n",
    "## Example of Gradient Descent\n",
    "\n",
    "Suppose we have a simple quadratic function: `F(x) = x^2`.\n",
    "\n",
    "1. **Initialization**: Choose an initial value, say `x_0 = 5`.\n",
    "\n",
    "2. **Compute the Gradient**: The gradient of `F` at `x` is `∇F(x) = 2x`. At `x_0 = 5`, the gradient is `2 × 5 = 10`.\n",
    "\n",
    "3. **Update Rule Application**: Choose a learning rate, say `α = 0.1`. Update `x` as follows:\n",
    "$$x_{ new } = x_{ old } - α ∇F(x_{ old })$$\n",
    "$$x_{ new } = 5 - 0.1 × 10 = 4$$\n",
    "\n",
    "4. **Iterate**: Repeat the process with the new value of `x`.\n",
    "\n",
    "This process will continue until the value of `x` settles at or near the minimum of the function, which in this case is `x = 0`. Each iteration moves closer to the minimum, and the size of each step is governed by the learning rate and the steepness of the function's slope at the current point.\n"
   ]
  },
  {
   "cell_type": "code",
   "execution_count": 1,
   "metadata": {},
   "outputs": [
    {
     "name": "stdout",
     "output_type": "stream",
     "text": [
      "Iteration 1: x = 4.0, F(x) = 16.0\n",
      "Iteration 2: x = 3.2, F(x) = 10.240000000000002\n",
      "Iteration 3: x = 2.56, F(x) = 6.5536\n",
      "Iteration 4: x = 2.048, F(x) = 4.194304\n",
      "Iteration 5: x = 1.6384, F(x) = 2.68435456\n",
      "Iteration 6: x = 1.31072, F(x) = 1.7179869184000003\n",
      "Iteration 7: x = 1.0485760000000002, F(x) = 1.0995116277760004\n",
      "Iteration 8: x = 0.8388608000000002, F(x) = 0.7036874417766403\n",
      "Iteration 9: x = 0.6710886400000001, F(x) = 0.45035996273704976\n",
      "Iteration 10: x = 0.5368709120000001, F(x) = 0.2882303761517119\n"
     ]
    }
   ],
   "source": [
    "def gradient_descent(learning_rate, num_iterations):\n",
    "    x = 5  # Starting point\n",
    "    for i in range(num_iterations):\n",
    "        gradient = 2 * x  # Derivative of F(x) = x^2\n",
    "        x = x - learning_rate * gradient\n",
    "        print(f\"Iteration {i+1}: x = {x}, F(x) = {x**2}\")\n",
    "\n",
    "\n",
    "# Example usage\n",
    "learning_rate = 0.1\n",
    "num_iterations = 10\n",
    "gradient_descent(learning_rate, num_iterations)"
   ]
  },
  {
   "cell_type": "code",
   "execution_count": 3,
   "metadata": {},
   "outputs": [],
   "source": [
    "def gradient_descent(starting_point, learning_rate, n):\n",
    "    x = starting_point\n",
    "    x_values = []\n",
    "    f_x_values = []\n",
    "    for i in range(n):\n",
    "        # Derivate of F(x) = x^2 is df(x) = 2x\n",
    "        gradient = 2 * x\n",
    "        # Learning rate (x here is Theta in the above equation)\n",
    "        x = x - learning_rate * gradient\n",
    "        x_values.append(x)\n",
    "        f_x_values.append(x**2)\n",
    "\n",
    "    return x_values, f_x_values\n",
    "\n",
    "\n",
    "# Run Gradient descent\n",
    "starting_point = 10\n",
    "learning_rate = 0.1\n",
    "num_iterations = 20\n",
    "\n",
    "x_values, f_x_values = gradient_descent(\n",
    "    starting_point, learning_rate, num_iterations\n",
    ")"
   ]
  },
  {
   "cell_type": "code",
   "execution_count": 4,
   "metadata": {},
   "outputs": [
    {
     "data": {
      "application/vnd.plotly.v1+json": {
       "config": {
        "plotlyServerURL": "https://plot.ly"
       },
       "data": [
        {
         "mode": "lines+markers",
         "name": "F(x) per Iteration",
         "type": "scatter",
         "x": [
          1,
          2,
          3,
          4,
          5,
          6,
          7,
          8,
          9,
          10,
          11,
          12,
          13,
          14,
          15,
          16,
          17,
          18,
          19,
          20
         ],
         "y": [
          64,
          40.96000000000001,
          26.2144,
          16.777216,
          10.73741824,
          6.871947673600001,
          4.398046511104002,
          2.8147497671065613,
          1.801439850948199,
          1.1529215046068475,
          0.7378697629483825,
          0.47223664828696477,
          0.3022314549036574,
          0.19342813113834073,
          0.12379400392853807,
          0.07922816251426434,
          0.050706024009129186,
          0.03245185536584268,
          0.020769187434139313,
          0.013292279957849162
         ]
        }
       ],
       "layout": {
        "template": {
         "data": {
          "bar": [
           {
            "error_x": {
             "color": "#f2f5fa"
            },
            "error_y": {
             "color": "#f2f5fa"
            },
            "marker": {
             "line": {
              "color": "rgb(17,17,17)",
              "width": 0.5
             },
             "pattern": {
              "fillmode": "overlay",
              "size": 10,
              "solidity": 0.2
             }
            },
            "type": "bar"
           }
          ],
          "barpolar": [
           {
            "marker": {
             "line": {
              "color": "rgb(17,17,17)",
              "width": 0.5
             },
             "pattern": {
              "fillmode": "overlay",
              "size": 10,
              "solidity": 0.2
             }
            },
            "type": "barpolar"
           }
          ],
          "carpet": [
           {
            "aaxis": {
             "endlinecolor": "#A2B1C6",
             "gridcolor": "#506784",
             "linecolor": "#506784",
             "minorgridcolor": "#506784",
             "startlinecolor": "#A2B1C6"
            },
            "baxis": {
             "endlinecolor": "#A2B1C6",
             "gridcolor": "#506784",
             "linecolor": "#506784",
             "minorgridcolor": "#506784",
             "startlinecolor": "#A2B1C6"
            },
            "type": "carpet"
           }
          ],
          "choropleth": [
           {
            "colorbar": {
             "outlinewidth": 0,
             "ticks": ""
            },
            "type": "choropleth"
           }
          ],
          "contour": [
           {
            "colorbar": {
             "outlinewidth": 0,
             "ticks": ""
            },
            "colorscale": [
             [
              0,
              "#0d0887"
             ],
             [
              0.1111111111111111,
              "#46039f"
             ],
             [
              0.2222222222222222,
              "#7201a8"
             ],
             [
              0.3333333333333333,
              "#9c179e"
             ],
             [
              0.4444444444444444,
              "#bd3786"
             ],
             [
              0.5555555555555556,
              "#d8576b"
             ],
             [
              0.6666666666666666,
              "#ed7953"
             ],
             [
              0.7777777777777778,
              "#fb9f3a"
             ],
             [
              0.8888888888888888,
              "#fdca26"
             ],
             [
              1,
              "#f0f921"
             ]
            ],
            "type": "contour"
           }
          ],
          "contourcarpet": [
           {
            "colorbar": {
             "outlinewidth": 0,
             "ticks": ""
            },
            "type": "contourcarpet"
           }
          ],
          "heatmap": [
           {
            "colorbar": {
             "outlinewidth": 0,
             "ticks": ""
            },
            "colorscale": [
             [
              0,
              "#0d0887"
             ],
             [
              0.1111111111111111,
              "#46039f"
             ],
             [
              0.2222222222222222,
              "#7201a8"
             ],
             [
              0.3333333333333333,
              "#9c179e"
             ],
             [
              0.4444444444444444,
              "#bd3786"
             ],
             [
              0.5555555555555556,
              "#d8576b"
             ],
             [
              0.6666666666666666,
              "#ed7953"
             ],
             [
              0.7777777777777778,
              "#fb9f3a"
             ],
             [
              0.8888888888888888,
              "#fdca26"
             ],
             [
              1,
              "#f0f921"
             ]
            ],
            "type": "heatmap"
           }
          ],
          "heatmapgl": [
           {
            "colorbar": {
             "outlinewidth": 0,
             "ticks": ""
            },
            "colorscale": [
             [
              0,
              "#0d0887"
             ],
             [
              0.1111111111111111,
              "#46039f"
             ],
             [
              0.2222222222222222,
              "#7201a8"
             ],
             [
              0.3333333333333333,
              "#9c179e"
             ],
             [
              0.4444444444444444,
              "#bd3786"
             ],
             [
              0.5555555555555556,
              "#d8576b"
             ],
             [
              0.6666666666666666,
              "#ed7953"
             ],
             [
              0.7777777777777778,
              "#fb9f3a"
             ],
             [
              0.8888888888888888,
              "#fdca26"
             ],
             [
              1,
              "#f0f921"
             ]
            ],
            "type": "heatmapgl"
           }
          ],
          "histogram": [
           {
            "marker": {
             "pattern": {
              "fillmode": "overlay",
              "size": 10,
              "solidity": 0.2
             }
            },
            "type": "histogram"
           }
          ],
          "histogram2d": [
           {
            "colorbar": {
             "outlinewidth": 0,
             "ticks": ""
            },
            "colorscale": [
             [
              0,
              "#0d0887"
             ],
             [
              0.1111111111111111,
              "#46039f"
             ],
             [
              0.2222222222222222,
              "#7201a8"
             ],
             [
              0.3333333333333333,
              "#9c179e"
             ],
             [
              0.4444444444444444,
              "#bd3786"
             ],
             [
              0.5555555555555556,
              "#d8576b"
             ],
             [
              0.6666666666666666,
              "#ed7953"
             ],
             [
              0.7777777777777778,
              "#fb9f3a"
             ],
             [
              0.8888888888888888,
              "#fdca26"
             ],
             [
              1,
              "#f0f921"
             ]
            ],
            "type": "histogram2d"
           }
          ],
          "histogram2dcontour": [
           {
            "colorbar": {
             "outlinewidth": 0,
             "ticks": ""
            },
            "colorscale": [
             [
              0,
              "#0d0887"
             ],
             [
              0.1111111111111111,
              "#46039f"
             ],
             [
              0.2222222222222222,
              "#7201a8"
             ],
             [
              0.3333333333333333,
              "#9c179e"
             ],
             [
              0.4444444444444444,
              "#bd3786"
             ],
             [
              0.5555555555555556,
              "#d8576b"
             ],
             [
              0.6666666666666666,
              "#ed7953"
             ],
             [
              0.7777777777777778,
              "#fb9f3a"
             ],
             [
              0.8888888888888888,
              "#fdca26"
             ],
             [
              1,
              "#f0f921"
             ]
            ],
            "type": "histogram2dcontour"
           }
          ],
          "mesh3d": [
           {
            "colorbar": {
             "outlinewidth": 0,
             "ticks": ""
            },
            "type": "mesh3d"
           }
          ],
          "parcoords": [
           {
            "line": {
             "colorbar": {
              "outlinewidth": 0,
              "ticks": ""
             }
            },
            "type": "parcoords"
           }
          ],
          "pie": [
           {
            "automargin": true,
            "type": "pie"
           }
          ],
          "scatter": [
           {
            "marker": {
             "line": {
              "color": "#283442"
             }
            },
            "type": "scatter"
           }
          ],
          "scatter3d": [
           {
            "line": {
             "colorbar": {
              "outlinewidth": 0,
              "ticks": ""
             }
            },
            "marker": {
             "colorbar": {
              "outlinewidth": 0,
              "ticks": ""
             }
            },
            "type": "scatter3d"
           }
          ],
          "scattercarpet": [
           {
            "marker": {
             "colorbar": {
              "outlinewidth": 0,
              "ticks": ""
             }
            },
            "type": "scattercarpet"
           }
          ],
          "scattergeo": [
           {
            "marker": {
             "colorbar": {
              "outlinewidth": 0,
              "ticks": ""
             }
            },
            "type": "scattergeo"
           }
          ],
          "scattergl": [
           {
            "marker": {
             "line": {
              "color": "#283442"
             }
            },
            "type": "scattergl"
           }
          ],
          "scattermapbox": [
           {
            "marker": {
             "colorbar": {
              "outlinewidth": 0,
              "ticks": ""
             }
            },
            "type": "scattermapbox"
           }
          ],
          "scatterpolar": [
           {
            "marker": {
             "colorbar": {
              "outlinewidth": 0,
              "ticks": ""
             }
            },
            "type": "scatterpolar"
           }
          ],
          "scatterpolargl": [
           {
            "marker": {
             "colorbar": {
              "outlinewidth": 0,
              "ticks": ""
             }
            },
            "type": "scatterpolargl"
           }
          ],
          "scatterternary": [
           {
            "marker": {
             "colorbar": {
              "outlinewidth": 0,
              "ticks": ""
             }
            },
            "type": "scatterternary"
           }
          ],
          "surface": [
           {
            "colorbar": {
             "outlinewidth": 0,
             "ticks": ""
            },
            "colorscale": [
             [
              0,
              "#0d0887"
             ],
             [
              0.1111111111111111,
              "#46039f"
             ],
             [
              0.2222222222222222,
              "#7201a8"
             ],
             [
              0.3333333333333333,
              "#9c179e"
             ],
             [
              0.4444444444444444,
              "#bd3786"
             ],
             [
              0.5555555555555556,
              "#d8576b"
             ],
             [
              0.6666666666666666,
              "#ed7953"
             ],
             [
              0.7777777777777778,
              "#fb9f3a"
             ],
             [
              0.8888888888888888,
              "#fdca26"
             ],
             [
              1,
              "#f0f921"
             ]
            ],
            "type": "surface"
           }
          ],
          "table": [
           {
            "cells": {
             "fill": {
              "color": "#506784"
             },
             "line": {
              "color": "rgb(17,17,17)"
             }
            },
            "header": {
             "fill": {
              "color": "#2a3f5f"
             },
             "line": {
              "color": "rgb(17,17,17)"
             }
            },
            "type": "table"
           }
          ]
         },
         "layout": {
          "annotationdefaults": {
           "arrowcolor": "#f2f5fa",
           "arrowhead": 0,
           "arrowwidth": 1
          },
          "autotypenumbers": "strict",
          "coloraxis": {
           "colorbar": {
            "outlinewidth": 0,
            "ticks": ""
           }
          },
          "colorscale": {
           "diverging": [
            [
             0,
             "#8e0152"
            ],
            [
             0.1,
             "#c51b7d"
            ],
            [
             0.2,
             "#de77ae"
            ],
            [
             0.3,
             "#f1b6da"
            ],
            [
             0.4,
             "#fde0ef"
            ],
            [
             0.5,
             "#f7f7f7"
            ],
            [
             0.6,
             "#e6f5d0"
            ],
            [
             0.7,
             "#b8e186"
            ],
            [
             0.8,
             "#7fbc41"
            ],
            [
             0.9,
             "#4d9221"
            ],
            [
             1,
             "#276419"
            ]
           ],
           "sequential": [
            [
             0,
             "#0d0887"
            ],
            [
             0.1111111111111111,
             "#46039f"
            ],
            [
             0.2222222222222222,
             "#7201a8"
            ],
            [
             0.3333333333333333,
             "#9c179e"
            ],
            [
             0.4444444444444444,
             "#bd3786"
            ],
            [
             0.5555555555555556,
             "#d8576b"
            ],
            [
             0.6666666666666666,
             "#ed7953"
            ],
            [
             0.7777777777777778,
             "#fb9f3a"
            ],
            [
             0.8888888888888888,
             "#fdca26"
            ],
            [
             1,
             "#f0f921"
            ]
           ],
           "sequentialminus": [
            [
             0,
             "#0d0887"
            ],
            [
             0.1111111111111111,
             "#46039f"
            ],
            [
             0.2222222222222222,
             "#7201a8"
            ],
            [
             0.3333333333333333,
             "#9c179e"
            ],
            [
             0.4444444444444444,
             "#bd3786"
            ],
            [
             0.5555555555555556,
             "#d8576b"
            ],
            [
             0.6666666666666666,
             "#ed7953"
            ],
            [
             0.7777777777777778,
             "#fb9f3a"
            ],
            [
             0.8888888888888888,
             "#fdca26"
            ],
            [
             1,
             "#f0f921"
            ]
           ]
          },
          "colorway": [
           "#636efa",
           "#EF553B",
           "#00cc96",
           "#ab63fa",
           "#FFA15A",
           "#19d3f3",
           "#FF6692",
           "#B6E880",
           "#FF97FF",
           "#FECB52"
          ],
          "font": {
           "color": "#f2f5fa"
          },
          "geo": {
           "bgcolor": "rgb(17,17,17)",
           "lakecolor": "rgb(17,17,17)",
           "landcolor": "rgb(17,17,17)",
           "showlakes": true,
           "showland": true,
           "subunitcolor": "#506784"
          },
          "hoverlabel": {
           "align": "left"
          },
          "hovermode": "closest",
          "mapbox": {
           "style": "dark"
          },
          "paper_bgcolor": "rgb(17,17,17)",
          "plot_bgcolor": "rgb(17,17,17)",
          "polar": {
           "angularaxis": {
            "gridcolor": "#506784",
            "linecolor": "#506784",
            "ticks": ""
           },
           "bgcolor": "rgb(17,17,17)",
           "radialaxis": {
            "gridcolor": "#506784",
            "linecolor": "#506784",
            "ticks": ""
           }
          },
          "scene": {
           "xaxis": {
            "backgroundcolor": "rgb(17,17,17)",
            "gridcolor": "#506784",
            "gridwidth": 2,
            "linecolor": "#506784",
            "showbackground": true,
            "ticks": "",
            "zerolinecolor": "#C8D4E3"
           },
           "yaxis": {
            "backgroundcolor": "rgb(17,17,17)",
            "gridcolor": "#506784",
            "gridwidth": 2,
            "linecolor": "#506784",
            "showbackground": true,
            "ticks": "",
            "zerolinecolor": "#C8D4E3"
           },
           "zaxis": {
            "backgroundcolor": "rgb(17,17,17)",
            "gridcolor": "#506784",
            "gridwidth": 2,
            "linecolor": "#506784",
            "showbackground": true,
            "ticks": "",
            "zerolinecolor": "#C8D4E3"
           }
          },
          "shapedefaults": {
           "line": {
            "color": "#f2f5fa"
           }
          },
          "sliderdefaults": {
           "bgcolor": "#C8D4E3",
           "bordercolor": "rgb(17,17,17)",
           "borderwidth": 1,
           "tickwidth": 0
          },
          "ternary": {
           "aaxis": {
            "gridcolor": "#506784",
            "linecolor": "#506784",
            "ticks": ""
           },
           "baxis": {
            "gridcolor": "#506784",
            "linecolor": "#506784",
            "ticks": ""
           },
           "bgcolor": "rgb(17,17,17)",
           "caxis": {
            "gridcolor": "#506784",
            "linecolor": "#506784",
            "ticks": ""
           }
          },
          "title": {
           "x": 0.05
          },
          "updatemenudefaults": {
           "bgcolor": "#506784",
           "borderwidth": 0
          },
          "xaxis": {
           "automargin": true,
           "gridcolor": "#283442",
           "linecolor": "#506784",
           "ticks": "",
           "title": {
            "standoff": 15
           },
           "zerolinecolor": "#283442",
           "zerolinewidth": 2
          },
          "yaxis": {
           "automargin": true,
           "gridcolor": "#283442",
           "linecolor": "#506784",
           "ticks": "",
           "title": {
            "standoff": 15
           },
           "zerolinecolor": "#283442",
           "zerolinewidth": 2
          }
         }
        },
        "title": {
         "text": "Gradient Descent Progression"
        },
        "xaxis": {
         "title": {
          "text": "Iteration"
         }
        },
        "yaxis": {
         "title": {
          "text": "F(x) = x^2"
         }
        }
       }
      }
     },
     "metadata": {},
     "output_type": "display_data"
    }
   ],
   "source": [
    "import plotly.graph_objects as go\n",
    "\n",
    "# Create the plot using Plotly\n",
    "fig = go.Figure()\n",
    "\n",
    "# Add trace for the gradient descent iterations\n",
    "fig.add_trace(\n",
    "    go.Scatter(\n",
    "        x=list(range(1, num_iterations + 1)),\n",
    "        y=f_x_values,\n",
    "        mode=\"lines+markers\",\n",
    "        name=\"F(x) per Iteration\",\n",
    "    )\n",
    ")\n",
    "\n",
    "# Update plot layout\n",
    "fig.update_layout(\n",
    "    title=\"Gradient Descent Progression\",\n",
    "    xaxis_title=\"Iteration\",\n",
    "    yaxis_title=\"F(x) = x^2\",\n",
    "    template=\"plotly_dark\",\n",
    ")"
   ]
  },
  {
   "cell_type": "markdown",
   "metadata": {},
   "source": [
    "$$ \\phi_{macro} = a_i * {DTF} ^ {b_i} $$\n",
    "\n",
    "  với ${a_i}, {b_i}$ là hệ số tương ứng $a,b$ của từng loại Rock"
   ]
  },
  {
   "cell_type": "markdown",
   "metadata": {},
   "source": []
  },
  {
   "cell_type": "markdown",
   "metadata": {},
   "source": [
    "$$ \\phi_{macro} = 10^{-2} * \\frac{DTF}{DTF_{max}} * \\phi_{max} $$"
   ]
  },
  {
   "cell_type": "markdown",
   "metadata": {},
   "source": [
    "# Stochastic Gradient Descent"
   ]
  },
  {
   "cell_type": "markdown",
   "metadata": {},
   "source": [
    "`Stochastic Gradient Descent (SGD)` is a variation of the gradient descent algorithm that updates the parameters using only a single or a few training examples at each iteration. This can be particularly useful when dealing with large datasets."
   ]
  },
  {
   "cell_type": "markdown",
   "metadata": {},
   "source": [
    "Let's consider the following equation\n",
    "$$ f(x,y) = x^2 + y^2 $$\n",
    "\n",
    "so the derivate should be:\n",
    "<!-- $$\\nabla fx(x,y) = 2x $$\n",
    "$$\\nabla fy(x,y) = 2y $$ -->\n",
    "\n",
    "$$\\frac{\\partial f(x,y)}{\\partial x} = 2x $$\n",
    "$$\\frac{\\partial f(x,y)}{\\partial y} = 2y $$"
   ]
  },
  {
   "cell_type": "code",
   "execution_count": 6,
   "metadata": {},
   "outputs": [],
   "source": [
    "import numpy as np\n",
    "import plotly.graph_objects as go\n",
    "from mpl_toolkits.mplot3d import Axes3D\n",
    "import matplotlib.pyplot as plt\n",
    "\n",
    "\n",
    "# function f(x,y)\n",
    "def f(x, y):\n",
    "    return x**2 + y**2\n",
    "\n",
    "\n",
    "# Partial derivatives\n",
    "def df_dx(x):\n",
    "    return 2 * x\n",
    "\n",
    "\n",
    "def df_dy(y):\n",
    "    return 2 * y\n",
    "\n",
    "\n",
    "# SGD\n",
    "def SGD(starting_point, learning_rate, n_iterate):\n",
    "    x_values = [starting_point[0]]\n",
    "    y_values = [starting_point[1]]\n",
    "    f_values = [f(starting_point[0], starting_point[1])]\n",
    "\n",
    "    x, y = starting_point\n",
    "\n",
    "    for i in range(num_iterations):\n",
    "        # Randomly choosing which variable to update\n",
    "        if np.random.rand() < 0.5:\n",
    "            x = x - learning_rate * df_dx(x)\n",
    "        else:\n",
    "            y = y - learning_rate * df_dy(y)\n",
    "\n",
    "    x_values.append(x)\n",
    "    y_values.append(y)\n",
    "    f_values.append(f(x, y))\n",
    "\n",
    "    return x_values, y_values, f_values\n",
    "\n",
    "\n",
    "# Parameters\n",
    "starting_point = [10, 10]  # Starting point of descent (x, y)\n",
    "learning_rate = 0.1  # Learning rate\n",
    "num_iterations = 20  # Number of iterations\n",
    "\n",
    "# Perform Stochastic Gradient Descent\n",
    "x_values, y_values, f_values = SGD(\n",
    "    starting_point, learning_rate, num_iterations\n",
    ")"
   ]
  },
  {
   "cell_type": "code",
   "execution_count": 7,
   "metadata": {},
   "outputs": [
    {
     "data": {
      "image/png": "[encoded data removed]",
      "text/plain": [
       "<Figure size 640x480 with 1 Axes>"
      ]
     },
     "metadata": {},
     "output_type": "display_data"
    }
   ],
   "source": [
    "# Plotting\n",
    "fig = plt.figure()\n",
    "ax = fig.add_subplot(111, projection=\"3d\")\n",
    "\n",
    "# Create a grid for plotting\n",
    "x_grid, y_grid = np.meshgrid(\n",
    "    np.linspace(-11, 11, 100), np.linspace(-11, 11, 100)\n",
    ")\n",
    "f_grid = f(x_grid, y_grid)\n",
    "\n",
    "# Plot the function surface\n",
    "ax.plot_surface(x_grid, y_grid, f_grid, alpha=0.5, cmap=\"jet\")\n",
    "\n",
    "# Plot the SGD steps\n",
    "ax.plot(x_values, y_values, f_values, color=\"r\", marker=\"o\", markersize=5)\n",
    "\n",
    "# Set labels\n",
    "ax.set_xlabel(\"X axis\")\n",
    "ax.set_ylabel(\"Y axis\")\n",
    "ax.set_zlabel(\"f(x, y)\")\n",
    "\n",
    "# Show plot\n",
    "plt.show()"
   ]
  },
  {
   "cell_type": "markdown",
   "metadata": {},
   "source": [
    "# Newton method"
   ]
  },
  {
   "cell_type": "markdown",
   "metadata": {},
   "source": []
  }
 ],
 "metadata": {
  "kernelspec": {
   "display_name": "funix-data-science-ynpb",
   "language": "python",
   "name": "python3"
  },
  "language_info": {
   "codemirror_mode": {
    "name": "ipython",
    "version": 3
   },
   "file_extension": ".py",
   "mimetype": "text/x-python",
   "name": "python",
   "nbconvert_exporter": "python",
   "pygments_lexer": "ipython3",
   "version": "3.9.16"
  }
 },
 "nbformat": 4,
 "nbformat_minor": 2
}
