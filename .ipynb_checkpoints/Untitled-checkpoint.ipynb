{
 "cells": [
  {
   "cell_type": "code",
   "execution_count": 2,
   "id": "5ec68eca",
   "metadata": {
    "ExecuteTime": {
     "end_time": "2023-10-23T12:09:30.516516Z",
     "start_time": "2023-10-23T12:09:30.513850Z"
    }
   },
   "outputs": [],
   "source": [
    "import pandas as pd\n",
    "import numpy as np"
   ]
  },
  {
   "cell_type": "code",
   "execution_count": 4,
   "id": "5d13efdf",
   "metadata": {
    "ExecuteTime": {
     "end_time": "2023-10-23T12:09:48.650453Z",
     "start_time": "2023-10-23T12:09:48.641561Z"
    }
   },
   "outputs": [
    {
     "data": {
      "text/plain": [
       "array([[1, 2, 3],\n",
       "       [4, 5, 6]])"
      ]
     },
     "execution_count": 4,
     "metadata": {},
     "output_type": "execute_result"
    }
   ],
   "source": [
    "a1 = np.array([[1,2,3],[4,5,6]])\n",
    "a1"
   ]
  },
  {
   "cell_type": "code",
   "execution_count": 6,
   "id": "8e5b317a",
   "metadata": {
    "ExecuteTime": {
     "end_time": "2023-10-23T12:10:10.695632Z",
     "start_time": "2023-10-23T12:10:10.689737Z"
    }
   },
   "outputs": [
    {
     "data": {
      "text/plain": [
       "array([[ 7,  8,  9],\n",
       "       [10, 11, 12]])"
      ]
     },
     "execution_count": 6,
     "metadata": {},
     "output_type": "execute_result"
    }
   ],
   "source": [
    "a2 = np.array([[7,8,9],[10,11,12]])\n",
    "a2"
   ]
  },
  {
   "cell_type": "code",
   "execution_count": 7,
   "id": "e5ed9ff0",
   "metadata": {
    "ExecuteTime": {
     "end_time": "2023-10-23T12:10:18.980174Z",
     "start_time": "2023-10-23T12:10:18.975668Z"
    }
   },
   "outputs": [
    {
     "data": {
      "text/plain": [
       "array([[ 8, 10, 12],\n",
       "       [14, 16, 18]])"
      ]
     },
     "execution_count": 7,
     "metadata": {},
     "output_type": "execute_result"
    }
   ],
   "source": [
    "# Phep cong\n",
    "a1 + a2"
   ]
  },
  {
   "cell_type": "code",
   "execution_count": 8,
   "id": "1ced73a3",
   "metadata": {
    "ExecuteTime": {
     "end_time": "2023-10-23T12:11:23.178667Z",
     "start_time": "2023-10-23T12:11:23.008595Z"
    }
   },
   "outputs": [
    {
     "ename": "ValueError",
     "evalue": "shapes (2,3) and (2,3) not aligned: 3 (dim 1) != 2 (dim 0)",
     "output_type": "error",
     "traceback": [
      "\u001b[0;31m---------------------------------------------------------------------------\u001b[0m",
      "\u001b[0;31mValueError\u001b[0m                                Traceback (most recent call last)",
      "Cell \u001b[0;32mIn[8], line 1\u001b[0m\n\u001b[0;32m----> 1\u001b[0m \u001b[43mnp\u001b[49m\u001b[38;5;241;43m.\u001b[39;49m\u001b[43mdot\u001b[49m\u001b[43m(\u001b[49m\u001b[43ma1\u001b[49m\u001b[43m,\u001b[49m\u001b[43ma2\u001b[49m\u001b[43m)\u001b[49m\n",
      "\u001b[0;31mValueError\u001b[0m: shapes (2,3) and (2,3) not aligned: 3 (dim 1) != 2 (dim 0)"
     ]
    }
   ],
   "source": [
    "np.dot(a1,a2)"
   ]
  },
  {
   "cell_type": "code",
   "execution_count": 10,
   "id": "aca2b171",
   "metadata": {
    "ExecuteTime": {
     "end_time": "2023-10-23T12:12:21.543617Z",
     "start_time": "2023-10-23T12:12:21.540534Z"
    }
   },
   "outputs": [],
   "source": [
    "a3 = a2.reshape(3,2) # nen dung transpose"
   ]
  },
  {
   "cell_type": "code",
   "execution_count": 11,
   "id": "3301e6c0",
   "metadata": {
    "ExecuteTime": {
     "end_time": "2023-10-23T12:12:30.262562Z",
     "start_time": "2023-10-23T12:12:30.258222Z"
    }
   },
   "outputs": [
    {
     "data": {
      "text/plain": [
       "array([[ 58,  64],\n",
       "       [139, 154]])"
      ]
     },
     "execution_count": 11,
     "metadata": {},
     "output_type": "execute_result"
    }
   ],
   "source": [
    "np.dot(a1,a3)"
   ]
  },
  {
   "cell_type": "code",
   "execution_count": null,
   "id": "489bce51",
   "metadata": {},
   "outputs": [],
   "source": []
  }
 ],
 "metadata": {
  "hide_input": false,
  "kernelspec": {
   "display_name": "Python 3 (ipykernel)",
   "language": "python",
   "name": "python3"
  },
  "language_info": {
   "codemirror_mode": {
    "name": "ipython",
    "version": 3
   },
   "file_extension": ".py",
   "mimetype": "text/x-python",
   "name": "python",
   "nbconvert_exporter": "python",
   "pygments_lexer": "ipython3",
   "version": "3.9.16"
  },
  "varInspector": {
   "cols": {
    "lenName": 16,
    "lenType": 16,
    "lenVar": 40
   },
   "kernels_config": {
    "python": {
     "delete_cmd_postfix": "",
     "delete_cmd_prefix": "del ",
     "library": "var_list.py",
     "varRefreshCmd": "print(var_dic_list())"
    },
    "r": {
     "delete_cmd_postfix": ") ",
     "delete_cmd_prefix": "rm(",
     "library": "var_list.r",
     "varRefreshCmd": "cat(var_dic_list()) "
    }
   },
   "position": {
    "height": "144.85px",
    "left": "588px",
    "right": "20px",
    "top": "85px",
    "width": "350px"
   },
   "types_to_exclude": [
    "module",
    "function",
    "builtin_function_or_method",
    "instance",
    "_Feature"
   ],
   "window_display": true
  }
 },
 "nbformat": 4,
 "nbformat_minor": 5
}
